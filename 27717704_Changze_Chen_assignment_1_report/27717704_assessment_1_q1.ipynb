{
 "cells": [
  {
   "cell_type": "markdown",
   "metadata": {},
   "source": [
    "## Question\t1\t[KNN\tRegressor,\t20\tMarks]"
   ]
  },
  {
   "cell_type": "markdown",
   "metadata": {},
   "source": [
    "### I. Implement the KNN regressor\tfunction:\n",
    "\n",
    "               knn(train.data, train.label, test.data, K=3)\n",
    "\n",
    "which takes\tthe\ttraining data and their\tlabels (continuous values), the test set, and the size of the neighborhood (K). It should return the regressed values for the test data points.\tNote that, you need to use a\t distance function to choose the neighbors. The\tdistance function used to measure the distance between a pair of data points is\tEuclidean distance function."
   ]
  },
  {
   "cell_type": "code",
   "execution_count": 1,
   "metadata": {},
   "outputs": [],
   "source": [
    "# Load libraries\n",
    "library(ggplot2)\n",
    "library(reshape2)\n",
    "library(corrplot)\n",
    "\n",
    "# Load Data\n",
    "data1.train <- read.csv('./Task1A_train.csv')\n",
    "data1.test <- read.csv('./Task1A_test.csv')\n",
    "data1.train <- as.matrix(data1.train)\n",
    "data1.test <- as.matrix(data1.test)"
   ]
  },
  {
   "cell_type": "code",
   "execution_count": 2,
   "metadata": {},
   "outputs": [],
   "source": [
    "#Create training and test subset\n",
    "data1.train.data <- data1.train[, -2,drop=FALSE] # grab records, leave out the y (last column)\n",
    "data1.train.label <- data1.train[, 2,drop=FALSE]\n",
    "data1.test.data <- data1.test[, -2,drop=FALSE] # grab records, leave out the y (last column)\n",
    "data1.test.label <- data1.test[, 2,drop=FALSE]"
   ]
  },
  {
   "cell_type": "code",
   "execution_count": 3,
   "metadata": {},
   "outputs": [],
   "source": [
    "# Define the average function for KNN regression\n",
    "ave <- function(x) {\n",
    "    round(mean(x), 2)\n",
    "}"
   ]
  },
  {
   "cell_type": "code",
   "execution_count": 4,
   "metadata": {},
   "outputs": [],
   "source": [
    "# Refer to tutorial code \n",
    "# KNN function (Use euclidean distance here)\n",
    "knn <- function(train.data, train.label, test.data, K=3){\n",
    "    \n",
    "  ## count number of train samples\n",
    "  train.len <- nrow(train.data)\n",
    "  \n",
    "  ## count number of test samples\n",
    "  test.len <- nrow(test.data)\n",
    "  \n",
    "  ## calculate distances between samples\n",
    "  dist <- as.matrix(dist(rbind(test.data, train.data), method= 'euclidean'))[1:test.len, (test.len+1):(test.len+train.len)]\n",
    "  \n",
    "  ## for each test sample...\n",
    "  for (i in 1:test.len){\n",
    "      \n",
    "    ### ...find its K nearest neighbours from training sampels...\n",
    "    nn <- as.data.frame(sort(dist[i,], index.return = TRUE))[1:K,2]\n",
    "   \n",
    "    ###... and calculate the predicted labels according to the mean value of K neighbours\n",
    "    data1.test.label[i]<- ave(train.label[nn])\n",
    "  }\n",
    "  \n",
    "  ## return the class labels as output\n",
    "  return (data1.test.label)\n",
    "}\n"
   ]
  },
  {
   "cell_type": "markdown",
   "metadata": {},
   "source": [
    "### II. Plot the training and the testing errors versus\t1/K for K=1,..,20 in one plot, using the Task1A_train.csv and Task1A_test.csv datasets provided for this assignment. Save the\t plot in your Jupyter Notebook file for\tQuestion 1. Report\tyour\tchosen error function in your Jupyter Notebook file."
   ]
  },
  {
   "cell_type": "code",
   "execution_count": 5,
   "metadata": {},
   "outputs": [],
   "source": [
    "# Calculate the train and test mean squared error for K in 1:20\n",
    "mse <- data.frame('K'=1:20, 'train'=rep(0,20), 'test'=rep(0,20))\n",
    "for (k in 1:20){\n",
    "  mse[k,'train'] <- sum((knn(data1.train.data, data1.train.label, data1.train.data, K=k) - data1.train.label)^2)/nrow(data1.train.data)\n",
    "  mse[k,'test'] <-  sum((knn(data1.train.data, data1.train.label, data1.test.data, K=k) - data1.test.label)^2)/nrow(data1.test.data)\n",
    "}"
   ]
  },
  {
   "cell_type": "code",
   "execution_count": 6,
   "metadata": {},
   "outputs": [
    {
     "data": {},
     "metadata": {},
     "output_type": "display_data"
    },
    {
     "data": {
      "image/png": "[encoded data removed]",
      "text/plain": [
       "plot without title"
      ]
     },
     "metadata": {},
     "output_type": "display_data"
    }
   ],
   "source": [
    "# Plot mean squared error of train and test data sets\n",
    "mse.m <- melt(mse, id='K') # reshape for visualization\n",
    "names(mse.m) <- c('K', 'type', 'error')\n",
    "ggplot(data=mse.m, aes(x=log(1/K), y=error, color=type)) + geom_line() +\n",
    "  scale_color_discrete(guide = guide_legend(title = NULL)) + theme_minimal() +\n",
    "  ggtitle(\"Mean Squared Error\")"
   ]
  },
  {
   "cell_type": "markdown",
   "metadata": {},
   "source": [
    "### III. Report\t(in\tyour Jupyter Notebook file)\tthe\toptimum\tvalue\t for K in terms of\tthe\ttesting\terror. Discuss\tthe\tvalues of K\tcorresponding to underfitting and overfitting based\ton\tyour plot\tin the previous part (Part II)."
   ]
  },
  {
   "cell_type": "markdown",
   "metadata": {},
   "source": [
    "From the plot, we can see when log(1/k) is equal to -2.4，the test error reaches a low point. Therefore the optimal K is around 12.\n",
    "\n",
    "We can also learn from the plot:\n",
    "* In interval [-3, -2.4], both training and testing errors are declining. So in this interval, the model is underfitting.\n",
    "* In interval [-2.4, 0], training error is still going down but testing error start increasing. Therefore, in this interval, the model is overfitting."
   ]
  },
  {
   "cell_type": "code",
   "execution_count": null,
   "metadata": {},
   "outputs": [],
   "source": []
  }
 ],
 "metadata": {
  "kernelspec": {
   "display_name": "R",
   "language": "R",
   "name": "ir"
  },
  "language_info": {
   "codemirror_mode": "r",
   "file_extension": ".r",
   "mimetype": "text/x-r-source",
   "name": "R",
   "pygments_lexer": "r",
   "version": "3.4.3"
  }
 },
 "nbformat": 4,
 "nbformat_minor": 2
}
