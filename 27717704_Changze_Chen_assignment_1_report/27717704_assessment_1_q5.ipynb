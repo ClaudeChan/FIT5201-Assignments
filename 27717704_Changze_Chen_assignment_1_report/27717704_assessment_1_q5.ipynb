{
 "cells": [
  {
   "cell_type": "markdown",
   "metadata": {},
   "source": [
    "## Question 5 [Ridge Regression, 25 Marks]"
   ]
  },
  {
   "cell_type": "markdown",
   "metadata": {},
   "source": [
    "### II. Using R (with no use of special libraries), implement SGD and BGD algorithms that you derived in Step I. The implementation is straightforward as you are allowed to use the code examples from Activity 1 in Module 2."
   ]
  },
  {
   "cell_type": "code",
   "execution_count": 1,
   "metadata": {},
   "outputs": [],
   "source": [
    "# auxiliary function to calculate labels based on the estimated coefficients\n",
    "predict_func <- function(Phi, w){\n",
    "  return(Phi%*%w)\n",
    "} \n",
    "\n",
    "# auxiliary function to calculate the objective function for the training\n",
    "train_obj_func <- function (Phi, w, label, lambda){\n",
    "  # the L2 regulariser is already included in the objective function for training \n",
    "  return(mean((predict_func(Phi, w) - label)^2) + .5 * lambda * w %*% w)\n",
    "}\n",
    "\n",
    "# auxiliary function to compute the error of the model\n",
    "get_errors <- function(train_data, test_data, W) {\n",
    "  n_weights = dim(W)[1]\n",
    "  errors = matrix(,nrow=n_weights, ncol=2)\n",
    "  for (tau in 1:n_weights) {\n",
    "    errors[tau,1] = train_obj_func(train_data$x, W[tau,],train_data$y, 0)\n",
    "    errors[tau,2] = train_obj_func(test_data$x, W[tau,],test_data$y, 0)\n",
    "  }\n",
    "  return(errors)\n",
    "}"
   ]
  },
  {
   "cell_type": "markdown",
   "metadata": {},
   "source": [
    "#### SGD"
   ]
  },
  {
   "cell_type": "code",
   "execution_count": 2,
   "metadata": {},
   "outputs": [],
   "source": [
    "# Stochastic Gradient Descent main function\n",
    "# refer ot assignment code of question 5\n",
    "sgd_train <- function(train_x, train_y, lambda, eta, epsilon, max_epoch) {\n",
    "  \n",
    "  train_len = dim(train_x)[1]\n",
    "  tau_max = max_epoch * train_len\n",
    "  \n",
    "  W <- matrix(,nrow=tau_max, ncol=ncol(train_x)) \n",
    "  W[1,] <- runif(ncol(train_x))\n",
    "  \n",
    "  tau = 1 # counter \n",
    "  obj_func_val <-matrix(,nrow=tau_max, ncol=1) \n",
    "  obj_func_val[tau,1] = train_obj_func(train_x, W[tau,],train_y, lambda)\n",
    "  \n",
    "  while (tau <= tau_max){\n",
    "    \n",
    "    # check termination criteria\n",
    "    if (obj_func_val[tau,1]<=epsilon) {break}\n",
    "    \n",
    "    # shuffle data:\n",
    "    train_index <- sample(1:train_len, train_len, replace = FALSE)\n",
    "    \n",
    "    # loop over each datapoint\n",
    "    for (i in train_index) {\n",
    "      # increment the counter\n",
    "      tau <- tau + 1\n",
    "      if (tau > tau_max) {break}\n",
    "      \n",
    "      # make the weight update\n",
    "      y_pred <- predict_func(train_x[i,], W[tau-1,])\n",
    "      W[tau,] <- sgd_update_weight(W[tau-1,], train_x[i,], train_y[i], y_pred, lambda, eta)\n",
    "      \n",
    "      # keep track of the objective funtion\n",
    "      obj_func_val[tau,1] = train_obj_func(train_x, W[tau,],train_y, lambda)\n",
    "    }\n",
    "  }\n",
    "  # resulting values for the training objective function as well as the weights\n",
    "  return(list('vals'=obj_func_val,'W'=W))\n",
    "}"
   ]
  },
  {
   "cell_type": "code",
   "execution_count": 3,
   "metadata": {},
   "outputs": [],
   "source": [
    "# Stochastic Gradient Descent updating the weight vector\n",
    "sgd_update_weight <- function(W_prev, x, y_true, y_pred, lambda, eta) {\n",
    "  # MODIFY THIS FUNCTION FOr L2 REG\n",
    "  grad = - (y_true-y_pred) * x \n",
    "  return(W_prev - eta * (grad+lambda*W_prev))\n",
    "}"
   ]
  },
  {
   "cell_type": "markdown",
   "metadata": {},
   "source": [
    "#### BGD"
   ]
  },
  {
   "cell_type": "code",
   "execution_count": 4,
   "metadata": {},
   "outputs": [],
   "source": [
    "# Batch Gradient Descent main function\n",
    "# refer to assignment code of question 5\n",
    "bgd_train <- function(train_x, train_y, lambda, eta, epsilon, max_epoch) {\n",
    "  \n",
    "  train_len = dim(train_x)[1]\n",
    "  \n",
    "  W <- matrix(,nrow=(max_epoch+1), ncol=ncol(train_x))\n",
    "  W[1,] <- runif(ncol(train_x))\n",
    "  \n",
    "  tau = 1 # counter \n",
    "  obj_func_val <-matrix(,nrow=(max_epoch+1), ncol=1)\n",
    "  obj_func_val[tau,1] = train_obj_func(train_x, W[tau,],train_y, lambda)\n",
    "  \n",
    "  trainin_size = dim(train_x)[1]\n",
    "  for (tau in 1:max_epoch){\n",
    "    \n",
    "    # check termination criteria\n",
    "    if (obj_func_val[tau,1]<=epsilon) {break}\n",
    "    \n",
    "    # make prediction over the training set\n",
    "    y_pred = train_x %*% W[tau,]\n",
    "    \n",
    "    # update the weight using linear search\n",
    "    W[tau+1,] = bgd_update_weight(W[tau,], train_x, train_y, y_pred, lambda, eta)\n",
    "    \n",
    "    # keep track of the objective funtion\n",
    "    obj_func_val[tau+1,1] = train_obj_func(train_x, W[tau+1,],train_y, lambda)\n",
    "  } \n",
    "  # resulting values for the training objective function as well as the weights\n",
    "  return(list('vals'=obj_func_val,'W'=W))\n",
    "}\n"
   ]
  },
  {
   "cell_type": "code",
   "execution_count": 5,
   "metadata": {},
   "outputs": [],
   "source": [
    "# Batch Gradient Descent updating the weight vector\n",
    "\n",
    "bgd_update_weight <- function(W_prev, x, y_true, y_pred, lambda, eta) {\n",
    "  # MODIFY THIS FUNCTION For L2 REG\n",
    "  grad = -colMeans(matrix((y_true-y_pred),nrow=dim(x)[1],ncol=dim(x)[2]) * x)\n",
    "  return (W_prev - eta * (grad+lambda*W_prev))\n",
    "}"
   ]
  },
  {
   "cell_type": "markdown",
   "metadata": {},
   "source": [
    "### III. Now let’s compare SGD and BGD implementations of ridge regression from Step II:\n",
    "1. Load Task2A_train.csv and Task2A_test.csv sets.\n",
    "2. Set the termination criterion as maximum of 18 weight updates for BGD, which is equivalent to 18 x N weight updates for SGD (where N is the number of training data).\n",
    "3. Run your implementations of SGD and BGD while all parameter settings (initial values, learning rate etc) are exactly the same for both algorithms. During run, record training error rate every time the weights get updated. Create a plot of error rates (use different colors for SGD and BGD), where the x-axis is the number of visited data points and y-axis is the error rate. Save your plot in your Jupyter Notebook file for Question 6. Note that for every N errors for SGD in the plot, you will only have one error for BGD; the total length of the x-axis will be 20 x N.\n",
    "4. Explain (in your Jupyter Notebook file) your observation based on the errors plot you generated in Part c. Particularly, discuss the convergence speed and the fluctuations you see in the error trends."
   ]
  },
  {
   "cell_type": "code",
   "execution_count": 6,
   "metadata": {},
   "outputs": [],
   "source": [
    "# refer to assignment code of question 5\n",
    "# import library\n",
    "library(ggplot2)\n",
    "library(reshape2)\n",
    "library(corrplot)\n",
    "\n",
    "# define read_data function\n",
    "read_data <- function(fname, sc) {\n",
    "  data <- read.csv(file=fname,head=TRUE,sep=\",\")\n",
    "  nr = dim(data)[1]\n",
    "  nc = dim(data)[2]\n",
    "  x = data[1:nr,1:(nc-1)]\n",
    "  y = data[1:nr,nc]\n",
    "  if (isTRUE(sc)) {\n",
    "    x = scale(x)\n",
    "    y = scale(y)\n",
    "  }\n",
    "  return (list(\"x\" = x, \"y\" = y))\n",
    "}\n",
    "\n",
    "## reading the data\n",
    "dtrain = read_data(\"./Task1C_train.csv\", TRUE)\n",
    "dtest = read_data(\"./Task1C_test.csv\", TRUE)"
   ]
  },
  {
   "cell_type": "code",
   "execution_count": 8,
   "metadata": {},
   "outputs": [
    {
     "data": {
      "image/png": "[encoded data removed]",
      "text/plain": [
       "plot without title"
      ]
     },
     "metadata": {},
     "output_type": "display_data"
    }
   ],
   "source": [
    "# set parameters for SGD \n",
    "max_epoch = 18\n",
    "epsilon = .001\n",
    "eta = .01\n",
    "lambda= 1.5\n",
    "\n",
    "# set parameters for BGD \n",
    "max_epoch = 18\n",
    "epsilon = .001\n",
    "eta = .01\n",
    "lambda= 1.5\n",
    "\n",
    "# Run SGD \n",
    "train_res1 = sgd_train(dtrain$x, dtrain$y, lambda, eta, epsilon, max_epoch)\n",
    "errors1 = get_errors(dtrain, dtest, train_res1$W) \n",
    "options(warn=-1)\n",
    "\n",
    "# Run BGD\n",
    "train_res2 = bgd_train(dtrain$x, dtrain$y, lambda, eta, epsilon, max_epoch)\n",
    "errors2 = get_errors(dtrain, dtest, train_res2$W)\n",
    "options(warn=-1)\n",
    "# Create a plot of error rates (SGD is blue and BGD is red), where the x-axis is the number of visited data \n",
    "# points and y-axis is the error rate.\n",
    "plot(errors1[,1], type=\"l\", col=\"blue\", xlab=\"iteration\", ylab=\"error\")\n",
    "lines(x=seq(1,19)*dim(dtrain$x)[1],y=errors2[,1],type=\"l\", lty=2, lwd=2, col=\"red\")"
   ]
  },
  {
   "cell_type": "markdown",
   "metadata": {},
   "source": [
    "#### Explaination:\n",
    "From the plot aboce we can learn:\n",
    "1. The convergence speed of SGD is much faster than BGD's. The reason is that SGD only select on data point for updating the weights but BGD need to use the all dataset. Thus the computationally of BGD is much high than SGD's and this will happen epcaially in the large scale dataset.\n",
    "2. The decreasing trends of error rate are different. In SGD algorithm, the error will converge very fast after first few iterations but after that it will fluctuate around some values. It is easy to stunk in local minimun because it only randomly pick one data point for parameters update in every iteration. In practice, the region which SGD flucate around is close to the global minimum. By contrast, BGD can always reach the globalminimun after run enough times of iterations."
   ]
  }
 ],
 "metadata": {
  "kernelspec": {
   "display_name": "R",
   "language": "R",
   "name": "ir"
  },
  "language_info": {
   "codemirror_mode": "r",
   "file_extension": ".r",
   "mimetype": "text/x-r-source",
   "name": "R",
   "pygments_lexer": "r",
   "version": "3.4.3"
  }
 },
 "nbformat": 4,
 "nbformat_minor": 2
}
