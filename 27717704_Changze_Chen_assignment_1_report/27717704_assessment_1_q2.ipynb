{
 "cells": [
  {
   "cell_type": "markdown",
   "metadata": {},
   "source": [
    "## Question 2 [L-fold Cross Validation, 15 Marks]"
   ]
  },
  {
   "cell_type": "markdown",
   "metadata": {},
   "source": [
    "### I. Implement a L-Fold Cross Validation (CV) function for your\t KNN regressor: \n",
    "              cv(train.data, train.label, numFold=10)\n",
    "            \n",
    "which takes\tthe\ttraining data and their\tlabels (continuous values), the number of folds, and returns errors\tfor\tdifferent folds\tof the training data."
   ]
  },
  {
   "cell_type": "code",
   "execution_count": 1,
   "metadata": {},
   "outputs": [],
   "source": [
    "# Import library\n",
    "library(ggplot2)\n",
    "library(reshape2)\n",
    "library(corrplot)\n",
    "\n",
    "# Load data\n",
    "data2.train <- read.csv('./Task1A_train.csv')\n",
    "data2.train <- as.matrix(data2.train)"
   ]
  },
  {
   "cell_type": "code",
   "execution_count": 2,
   "metadata": {},
   "outputs": [],
   "source": [
    "# Define the average function for KNN regression\n",
    "avg <- function(x) {\n",
    "  round(mean(x),2)\n",
    "}"
   ]
  },
  {
   "cell_type": "code",
   "execution_count": 3,
   "metadata": {},
   "outputs": [],
   "source": [
    "# Refer to tutorial code \n",
    "# KNN function (Use euclidean distance here)\n",
    "\n",
    "knn <- function(train.data, train.label, test.data, test.label, K=3){\n",
    "  \n",
    "  test.label1 <- test.label\n",
    "  ## count number of train samples\n",
    "  train.len <- nrow(train.data)\n",
    "  \n",
    "  ## count number of test samples\n",
    "  test.len <- nrow(test.data)\n",
    "  \n",
    "  ## calculate distances between samples\n",
    "  dist <- as.matrix(dist(rbind(test.data, train.data), method= 'euclidean'))[1:test.len, (test.len+1):(test.len+train.len)]\n",
    "  \n",
    "  ## for each test sample...\n",
    "  for (i in 1:test.len){\n",
    "    ### ...find its K nearest neighbours from training sampels...\n",
    "    nn <- as.data.frame(sort(dist[i,], index.return = TRUE))[1:K,2]\n",
    "    ###... and calculate the predicted labels according to the mean value of K neighbours\n",
    "    test.label1[i]<- avg(train.label[nn])\n",
    "  }\n",
    "  \n",
    "  ## return the class labels as output\n",
    "  return (as.matrix(test.label1))\n",
    "}"
   ]
  },
  {
   "cell_type": "code",
   "execution_count": 4,
   "metadata": {},
   "outputs": [],
   "source": [
    "# L-fold Cross Validation\n",
    "cv <- function(train.data, train.label, numFold=10, K=3) {\n",
    "    \n",
    "  # Create L equal-size subsets\n",
    "  folds <- cut(seq(1,nrow(train.data)),breaks=10,labels=FALSE)\n",
    "  \n",
    "  # Create a vector for MSE of L-fold \n",
    "  mse.lf <- rep(0,numFold)\n",
    "  \n",
    "  # Perform L-fold cross validation\n",
    "  for(i in 1:numFold){\n",
    "      \n",
    "    #Divide the data by folds\n",
    "    test_index <- which(folds==i,arr.ind=TRUE)\n",
    "    test_data <- train.data[test_index,,drop=FALSE ]\n",
    "    test_lable <- train.label[test_index,,drop=FALSE ]\n",
    "    train_data <- train.data[-test_index,,drop=FALSE  ]\n",
    "    train_label <- train.label[-test_index,,drop=FALSE ]\n",
    "      \n",
    "    #Perform KNN regressor for each fold.\n",
    "    mse <- sum((knn(train_data,train_label, test_data,test_lable,K=K)-test_lable)^2)/nrow(test_data)\n",
    "\n",
    "    #Store MSE in ith postion of L fold MSE array.\n",
    "    mse.lf[i] <- mse\n",
    "  }\n",
    "  return(mse.lf)\n",
    "}"
   ]
  },
  {
   "cell_type": "markdown",
   "metadata": {},
   "source": [
    "## II. Using the training data, run your L-Fold CV where the numFold is set to 10. \n",
    "Change the value of K=1,..,20 in your KNN regressor, and for each K compute the average 10 error numbers you have got. Plot the average error numbers versus 1/K for K=1,..,20 in your KNN regressor. Further, add two dashed lines around the average error indicating the average +/- standard deviation of errors. Save the plot in your Jupyter Notebook file for Question 2."
   ]
  },
  {
   "cell_type": "code",
   "execution_count": 5,
   "metadata": {},
   "outputs": [],
   "source": [
    "# Randomly shuffle the data\n",
    "set.seed(1111)\n",
    "data2.train <- data2.train[sample(nrow(data2.train)),]\n",
    "\n",
    "# Create training set and training label\n",
    "data2.train.data <- data2.train[, -2,drop=FALSE] # grab records, leave out the y (last column)\n",
    "data2.train.label <- data2.train[, 2,drop=FALSE]"
   ]
  },
  {
   "cell_type": "code",
   "execution_count": 6,
   "metadata": {},
   "outputs": [],
   "source": [
    "# Use temp dataframe to store average of MSE of each K \n",
    "temp <- data.frame('K'=1:20, 'AvgMSE'=rep(0,20))\n",
    "for (k in 1:20){\n",
    "  temp[k,2] <- mean(cv(data2.train.data, data2.train.label,K=k))   # mean of error\n",
    "}"
   ]
  },
  {
   "cell_type": "code",
   "execution_count": 7,
   "metadata": {},
   "outputs": [
    {
     "data": {},
     "metadata": {},
     "output_type": "display_data"
    },
    {
     "data": {
      "image/png": "[encoded data removed]",
      "text/plain": [
       "plot without title"
      ]
     },
     "metadata": {},
     "output_type": "display_data"
    }
   ],
   "source": [
    "# Reshape datafram for visualization\n",
    "temp.m <- melt(temp, id='K') \n",
    "names(temp.m) <- c('K', 'type', 'error')\n",
    "ggplot(data=temp.m, aes(x=1/K, y=error, color=type))+ geom_line() +\n",
    "              scale_color_discrete(guide = guide_legend(title = NULL)) + \n",
    "                ggtitle(\"Average error numbers versus 1/K\") + theme_minimal()"
   ]
  },
  {
   "cell_type": "markdown",
   "metadata": {},
   "source": [
    "### III. Report (in your Jupyter Notebook file) the values of K that result to minimum average error and minimum standard deviation of errors based on your cross validation plot in the previous part (Part II)."
   ]
  },
  {
   "cell_type": "markdown",
   "metadata": {},
   "source": [
    "#### Ans:\n",
    "From the plot we can learn that when **1/K** equals to **0.5**, the average error reaches the minimum. Therefore the **K** is equal to 2."
   ]
  }
 ],
 "metadata": {
  "kernelspec": {
   "display_name": "R",
   "language": "R",
   "name": "ir"
  },
  "language_info": {
   "codemirror_mode": "r",
   "file_extension": ".r",
   "mimetype": "text/x-r-source",
   "name": "R",
   "pygments_lexer": "r",
   "version": "3.4.3"
  }
 },
 "nbformat": 4,
 "nbformat_minor": 2
}
