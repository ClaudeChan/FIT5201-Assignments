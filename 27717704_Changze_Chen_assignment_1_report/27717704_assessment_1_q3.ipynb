{
 "cells": [
  {
   "cell_type": "markdown",
   "metadata": {},
   "source": [
    "## Question\t3 [Bootstrapping,\t25 Marks]"
   ]
  },
  {
   "cell_type": "code",
   "execution_count": 1,
   "metadata": {},
   "outputs": [],
   "source": [
    "# Import library\n",
    "library(ggplot2)\n",
    "library(reshape2)\n",
    "library(corrplot)\n",
    "\n",
    "# Load data\n",
    "data3.train <- read.csv('./Task1B_train.csv')\n",
    "data3.test <- read.csv('./Task1B_test.csv')"
   ]
  },
  {
   "cell_type": "code",
   "execution_count": 2,
   "metadata": {},
   "outputs": [],
   "source": [
    "# Create training and test subset\n",
    "data3.train.data <- data3.train[, -5] # grab records, leave out the y (last column)\n",
    "data3.train.label <- data3.train[, 5]\n",
    "data3.test.data <- data3.test[, -5] # grab records, leave out the y (last column)\n",
    "data3.test.label <- data3.test[, 5]"
   ]
  },
  {
   "cell_type": "markdown",
   "metadata": {},
   "source": [
    "### I. Modify the code in Activity 2 to\thandle bootstrapping for\tKNN\tregression."
   ]
  },
  {
   "cell_type": "code",
   "execution_count": 3,
   "metadata": {},
   "outputs": [],
   "source": [
    "# Define the average function for KNN regression\n",
    "\n",
    "avg <- function(x) {\n",
    "  round(mean(x),2)\n",
    "}\n",
    "\n",
    "# Refer to tutorial code \n",
    "# KNN function (Use euclidean distance here)\n",
    "knn <- function(train.data, train.label, test.data, K=3){\n",
    "  \n",
    "  ## count number of train samples\n",
    "  train.len <- nrow(train.data)\n",
    "  \n",
    "  ## count number of test samples\n",
    "  test.len <- nrow(test.data)\n",
    "  \n",
    "  ## calculate distances between samples\n",
    "  dist <- as.matrix(dist(rbind(test.data, train.data), method= 'euclidean'))[1:test.len, (test.len+1):(test.len+train.len)]\n",
    "  \n",
    "  ## for each test sample...\n",
    "  for (i in 1:test.len){\n",
    "    ### ...find its K nearest neighbours from training sampels...\n",
    "    nn <- as.data.frame(sort(dist[i,], index.return = TRUE))[1:K,2]\n",
    "    ###... and calculate the predicted labels according to the mean value of K neighbours\n",
    "    data3.test.label[i]<- avg(train.label[nn])\n",
    "  }\n",
    "  \n",
    "  ## return the class labels as output\n",
    "  return (data3.test.label)\n",
    "}"
   ]
  },
  {
   "cell_type": "code",
   "execution_count": 4,
   "metadata": {},
   "outputs": [],
   "source": [
    "# Bootstrapping\n",
    "# Define a function that generates sample indixes based on bootstrap technique\n",
    "boot <- function (original.size, sample.size, times){\n",
    "  indx <- matrix(nrow=times, ncol=sample.size)\n",
    "  for (t in 1:times){\n",
    "    indx[t, ] <- sample(x=original.size, size=sample.size, replace = TRUE)\n",
    "  }\n",
    "  return(indx)\n",
    "}"
   ]
  },
  {
   "cell_type": "markdown",
   "metadata": {},
   "source": [
    "### II. Load Task1B_train.csv and Task1B_test.csv sets. Apply your bootstrapping for KNN regression with times = 100 (the number of subsets), size = 30 (the size of each subset), and change K=1,..,20 (the neighbourhood size). Now create a boxplot where the x-axis is K, and the y- axis is the average error (and the uncertainty around it) corresponding to each K. Save the plot in your Jupyter Notebook file for Question 3."
   ]
  },
  {
   "cell_type": "code",
   "execution_count": 5,
   "metadata": {},
   "outputs": [],
   "source": [
    "# fix the parameters (50,40,50)\n",
    "K <- 20           # Maximum K for KNN \n",
    "L <- 100          # number of datasets\n",
    "N <- 30          # size of datasets"
   ]
  },
  {
   "cell_type": "code",
   "execution_count": 6,
   "metadata": {},
   "outputs": [],
   "source": [
    "# refer to tutorial code\n",
    "# generate bootstrap indices:\n",
    "boot.indx <- boot(nrow(data3.train.data), N, L)\n",
    "\n",
    "# a dataframe to track the number of missclassified samples in each case\n",
    "miss <- data.frame('K'=1:K, 'L'=1:L, 'test'=rep(0,L*K))\n",
    "\n",
    "## for every k values:\n",
    "for (k in 1: K){\n",
    "  \n",
    "  ### for every dataset sizes:\n",
    "  for (l in 1:L){\n",
    "    \n",
    "    #### calculate iteration index i\n",
    "    i <- (k-1)*L+l\n",
    "    \n",
    "    #### save sample indices that were selected by bootstrap\n",
    "    indx <- boot.indx[l,]\n",
    "    \n",
    "    #### save the value of k and l\n",
    "    miss[i,'K'] <- k\n",
    "    miss[i,'L'] <- l\n",
    "    \n",
    "    #### calculate and record the train and test missclassification rates\n",
    "    miss[i,'test'] <-  sum((knn(data3.train.data[indx, ], data3.train.label[indx], data3.test.data, K=k)-data3.test.label)^2)/nrow(data3.test.data)\n",
    "  } \n",
    "}"
   ]
  },
  {
   "cell_type": "code",
   "execution_count": 9,
   "metadata": {},
   "outputs": [
    {
     "data": {},
     "metadata": {},
     "output_type": "display_data"
    },
    {
     "data": {
      "image/png": "[encoded data removed]",
      "text/plain": [
       "plot without title"
      ]
     },
     "metadata": {},
     "output_type": "display_data"
    }
   ],
   "source": [
    "# boxplot\n",
    "miss.m <- melt(miss, id=c('K', 'L')) # reshape for visualization\n",
    "names(miss.m) <- c('K', 'L', 'type', 'MSE')\n",
    "ggplot(data=miss.m[miss.m$type=='test',], aes(factor(K), MSE,fill=type)) + geom_boxplot(outlier.shape = NA)  + \n",
    "  scale_color_discrete(guide = guide_legend(title = NULL)) + \n",
    "  ggtitle('Mean Squared Error vs. K (Box Plot)') + theme_minimal()\n",
    "# ignore the warnings (because of ignoring outliers)\n",
    "options(warn=-1)"
   ]
  },
  {
   "cell_type": "markdown",
   "metadata": {},
   "source": [
    "### III. Based on the plot in the previous part (Part I), how does the test error and its uncertainty behave as K increases? Explain in your Jupyter Notebook file."
   ]
  },
  {
   "cell_type": "markdown",
   "metadata": {},
   "source": [
    "#### Ans:\n",
    "\n",
    "From the boxplot above, we can know the mean squared error is increasing when K is increasing, beacuse the model tends to be underfitting."
   ]
  },
  {
   "cell_type": "markdown",
   "metadata": {},
   "source": [
    "### IV. Load Task1B_train.csv and Task1B_test.csv sets. Apply your bootstrapping for KNN regression with K=10 (the neighbourhood size), size = 30 (the size of each subset), and change times = 10, 20, 30,.., 200 (the number of subsets). Now create a boxplot where the x-axis is ‘times’, and the y-axis is the average error (and the uncertainty around it) corresponding to each value of ‘times’. Save the plot in your Jupyter Notebook file for Question 3."
   ]
  },
  {
   "cell_type": "code",
   "execution_count": 10,
   "metadata": {},
   "outputs": [],
   "source": [
    "# set parameters\n",
    "K <- 10                     # K for KNN \n",
    "L <- seq(10,200,10)         # number of datasets\n",
    "N <- 30                     # size of datasets\n",
    "\n",
    "# a dataframe to track the number of missclassified samples in each case\n",
    "\n",
    "mse.L <- data.frame('times'=0, 'll'=0, 'test'=0)\n",
    "for (ll in L){\n",
    "  mse.L <- rbind(mse.L,data.frame('times'=ll,'ll'=1:ll,'test'=rep(0,ll)))\n",
    "}\n",
    "mse.L <- mse.L[c(2:nrow(mse.L)),]\n",
    "\n",
    "# main loop\n",
    "for (t in 1:length(L)){\n",
    "  \n",
    "  ll <- L[t]\n",
    "  # generate bootstrap indices:\n",
    "  boot.indx <- boot(nrow(data3.train.data), N, ll)\n",
    "  \n",
    "  for (l in 1:ll){\n",
    "    \n",
    "    #### calculate iteration index i\n",
    "    i <- 5*t*(t-1)+l\n",
    "    \n",
    "    #### save sample indices that were selected by bootstrap\n",
    "    indx <- boot.indx[l,]\n",
    "    \n",
    "    #### save the value of k and l\n",
    "    mse.L[i,'times'] <- ll\n",
    "    mse.L[i,'ll'] <- l\n",
    "    \n",
    "    #### calculate and record the train and test missclassification rates\n",
    "    mse.L[i,'test'] <-  mean(sum((knn(data3.train.data[indx, ], data3.train.label[indx], data3.test.data, K=10)-data3.test.label)^2)/nrow(data3.test.data))\n",
    "  }\n",
    "}"
   ]
  },
  {
   "cell_type": "code",
   "execution_count": 13,
   "metadata": {},
   "outputs": [
    {
     "data": {},
     "metadata": {},
     "output_type": "display_data"
    },
    {
     "data": {
      "image/png": "[encoded data removed]",
      "text/plain": [
       "plot without title"
      ]
     },
     "metadata": {},
     "output_type": "display_data"
    }
   ],
   "source": [
    "# boxplot\n",
    "mse.L.m <- melt(mse.L, id=c('times', 'll')) # reshape for visualization\n",
    "names(mse.L.m) <- c('times', 'll', 'type', 'AvgError')\n",
    "ggplot(data=mse.L.m[mse.L.m$type=='test',], aes(factor(times), AvgError,fill=type)) + geom_boxplot(outlier.shape = NA)  + \n",
    "  scale_color_discrete(guide = guide_legend(title = NULL)) + \n",
    "  ggtitle('Average testing Error vs. Times of Bootstrapping (Box Plot)') + theme_minimal()"
   ]
  },
  {
   "cell_type": "markdown",
   "metadata": {},
   "source": [
    "### V. Based on the plot in the previous part (Part IV), how does the test error and its uncertainty behave as the number of subsets in bootstrapping increases? Explain in your Jupyter Notebook file.\n",
    "\n",
    "#### Answear:\n",
    "From the plot above, we can know that after the times of bootstraping reaches 80, the average testing error and the uncertainty tend to be stable. It means that increasing the time of bootstrapping does not always reduce the error of the model. After a certain number of times bootstrapping the error tends to be stable."
   ]
  }
 ],
 "metadata": {
  "kernelspec": {
   "display_name": "R",
   "language": "R",
   "name": "ir"
  },
  "language_info": {
   "codemirror_mode": "r",
   "file_extension": ".r",
   "mimetype": "text/x-r-source",
   "name": "R",
   "pygments_lexer": "r",
   "version": "3.4.3"
  }
 },
 "nbformat": 4,
 "nbformat_minor": 2
}
