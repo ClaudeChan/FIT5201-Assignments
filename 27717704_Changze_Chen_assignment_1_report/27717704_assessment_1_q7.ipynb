{
 "cells": [
  {
   "cell_type": "markdown",
   "metadata": {},
   "source": [
    "## Question\t7 [Discriminative\tvs\tGenerative\tModels,\t25\tMarks]"
   ]
  },
  {
   "cell_type": "markdown",
   "metadata": {},
   "source": [
    "### I. Load\t Task1E_train.csv and\t Task1E_test.csv as\t well\t as\t the\t Bayesian classifier\t(BC)\tand\tlogistic\tregression\t(LR)\tcodes\tfrom\tActivities\t2\tand\t3\tin\tModule\t3."
   ]
  },
  {
   "cell_type": "code",
   "execution_count": 1,
   "metadata": {},
   "outputs": [],
   "source": [
    "# Load libraries\n",
    "library(ggplot2)\n",
    "library(reshape2)\n",
    "library(mvtnorm) # generates multivariate Gaussian sampels and calculate the densities"
   ]
  },
  {
   "cell_type": "code",
   "execution_count": 2,
   "metadata": {},
   "outputs": [],
   "source": [
    "# Load data\n",
    "data7.train <- read.csv(\"./Task1E_train.csv\")\n",
    "data7.test <- read.csv(\"./Task1E_test.csv\")"
   ]
  },
  {
   "cell_type": "code",
   "execution_count": 3,
   "metadata": {},
   "outputs": [],
   "source": [
    "# Bayesian classifier (BC)\n",
    "# refers to tutorial code\n",
    "BayesianClassifier <- function(train.data,train.label,test.data){\n",
    "    \n",
    "    # Class probabilities:\n",
    "    p0.hat <- sum(train.label==1)/nrow(train.data) # total number of samples in class 0 divided by the total nmber of training data\n",
    "    p1.hat <- sum(train.label==-1)/nrow(train.data) # or simply 1 - p1.hat\n",
    "\n",
    "    # Class means:\n",
    "    mu0.hat <- colMeans(train.data[train.label==1,])\n",
    "    mu1.hat <- colMeans(train.data[train.label==-1,])\n",
    "    \n",
    "    # class covariance matrices:\n",
    "    sigma0.hat <- var(train.data[train.label==1,])\n",
    "    sigma1.hat <- var(train.data[train.label==-1,])\n",
    "    \n",
    "    # shared covariance matrix:\n",
    "    sigma.hat <- p0.hat * sigma0.hat + p1.hat * sigma1.hat \n",
    "    \n",
    "    # calculate posteriors:\n",
    "    posterior0 <- p0.hat*dmvnorm(x=train.data, mean=mu0.hat, sigma=sigma.hat)\n",
    "    posterior1 <- p1.hat*dmvnorm(x=train.data, mean=mu1.hat, sigma=sigma.hat)\n",
    "    \n",
    "    # Predict on testing data\n",
    "    test.predict <- ifelse(p0.hat*dmvnorm(x=test.data, mean=mu0.hat, sigma=sigma.hat) > p1.hat*dmvnorm(x=test.data, mean=mu1.hat, sigma=sigma.hat), 1, -1)\n",
    "\n",
    "    return(test.predict)\n",
    "    }"
   ]
  },
  {
   "cell_type": "code",
   "execution_count": 4,
   "metadata": {},
   "outputs": [],
   "source": [
    "# Logistic Regression (LR)\n",
    "# refers to tutorial code\n",
    "\n",
    "LogisticRegresson <- function(train.data,train.label,test.data){\n",
    " \n",
    "    # auxiliary function that predicts class labels\n",
    "    predict <- function(w, X, c0, c1){\n",
    "    sig <- sigmoid(w, X)\n",
    "    return(ifelse(sig>0.5, c1,c0))\n",
    "    }\n",
    "    \n",
    "    # auxiliary function that calculate a cost function\n",
    "    cost <- function (w, X, T, c0){\n",
    "    sig <- sigmoid(w, X)\n",
    "    return(sum(ifelse(T==c0, 1-sig, sig)))\n",
    "    }\n",
    "    \n",
    "    # Sigmoid function (=p(C1|X))\n",
    "    sigmoid <- function(w, x){\n",
    "    return(1.0/(1.0+exp(-w%*%t(cbind(1,x)))))    \n",
    "    }\n",
    "    \n",
    "    \n",
    "    # Initializations\n",
    "    c0 <- 1; c1 <- -1\n",
    "    tau.max <- 1000 # maximum number of iterations\n",
    "    eta <- 0.01 # learning rate\n",
    "    epsilon <- 0.01 # a threshold on the cost (to terminate the process)\n",
    "    tau <- 1 # iteration counter\n",
    "    terminate <- FALSE\n",
    "\n",
    "    ## Just a few name/type conversion to make the rest of the code easy to follow\n",
    "    X <- as.matrix(train.data) # rename just for conviniance\n",
    "    T <- ifelse(train.label==c0,0,1) # rename just for conviniance\n",
    "\n",
    "    W <- matrix(,nrow=tau.max, ncol=(ncol(X)+1)) # to be used to store the estimated coefficients\n",
    "    W[1,] <- runif(ncol(W)) # initial weight (any better idea?)\n",
    "\n",
    "    # project data using the sigmoid function (just for convenient)\n",
    "    Y <- sigmoid(W[1,],X)\n",
    "\n",
    "    costs <- data.frame('tau'=1:tau.max)  # to be used to trace the cost in each iteration\n",
    "    costs[1, 'cost'] <- cost(W[1,],X,T, c0)\n",
    "    \n",
    "    \n",
    "    while(!terminate){\n",
    "    # check termination criteria:\n",
    "    terminate <- tau >= tau.max | cost(W[tau,],X,T, c0)<=epsilon\n",
    "    \n",
    "    # shuffle data:\n",
    "    train.index <- sample(1:nrow(train.data), nrow(train.data), replace = FALSE)\n",
    "    X <- X[train.index,]\n",
    "    T <- T[train.index]\n",
    "    \n",
    "    # for each datapoint:\n",
    "    for (i in 1:nrow(train.data)){\n",
    "        # check termination criteria:\n",
    "        if (tau >= tau.max | cost(W[tau,],X,T, c0) <=epsilon) {terminate<-TRUE;break}\n",
    "        \n",
    "        Y <- sigmoid(W[tau,],X)\n",
    "            \n",
    "        # Update the weights\n",
    "        W[(tau+1),] <- W[tau,] - eta * (Y[i]-T[i]) * cbind(1, t(X[i,]))\n",
    "        \n",
    "        # record the cost:\n",
    "        costs[(tau+1), 'cost'] <- cost(W[tau,],X,T, c0)\n",
    "        \n",
    "        # update the counter:\n",
    "        tau <- tau + 1\n",
    "        \n",
    "        # decrease learning rate:\n",
    "        eta = eta * 0.999\n",
    "        }\n",
    "    }\n",
    "    # Done!\n",
    "    costs <- costs[1:tau, ] # remove the NaN tail of the vector (in case of early stopping)\n",
    "\n",
    "    # the  final result is:\n",
    "    w <- W[tau,]\n",
    "    \n",
    "    return(predict(w,test.data,c0,c1))\n",
    "    \n",
    "    } "
   ]
  },
  {
   "cell_type": "markdown",
   "metadata": {},
   "source": [
    "### II. Using\t the\t first\t 5 data\t points\t from\t the\t training\t set,\t train\t a\t BC\t and\t a\t LR\tmodel,\tand\tcompute\ttheir\ttest\terrors.\tIn\ta\t“for\tloop”,\tincrease\tthe\tsize\tof\ttraining\t set\t (5 data\t points\t at\t a\t time),\t retrain\t the\t models\t and\t calculate\ttheir\ttest\terrors\tuntil\tall\ttraining\tdata\tpoints\tare\tused.\tIn\tone\tfigure,\tplot\tthe\ttest\terrors\tfor\teach\tmodel\t(with\tdifferent\tcolors)\tversus\tthe\tsize\tof\tthe\ttraining\tset;\tinclude\tthe\tplot\tin\tyour\tJupyter\tNotebook\tfile\tfor\tQuestion\t7.\t"
   ]
  },
  {
   "cell_type": "code",
   "execution_count": 5,
   "metadata": {},
   "outputs": [],
   "source": [
    "# the error matirx\n",
    "test.error <- matrix(,nrow=nrow(data7.train)/5+1,ncol=3)"
   ]
  },
  {
   "cell_type": "code",
   "execution_count": 6,
   "metadata": {},
   "outputs": [],
   "source": [
    "# create testing set\n",
    "test.data <- data7.test[,-3]\n",
    "test.label <- data7.test[,3]\n",
    "\n",
    "# initialze index and terminate variable\n",
    "i <- 5\n",
    "terminate <- FALSE\n",
    "iteration <- 1\n",
    "\n",
    "while (!terminate){\n",
    "    \n",
    "    if (i > nrow(data7.train)){\n",
    "        i <- nrow(data7.train)\n",
    "        terminate <- TRUE\n",
    "        }\n",
    "    \n",
    "    # Create training set and testing set\n",
    "    train.data <- data7.train[1:i,-3]\n",
    "    train.label <- data7.train[1:i,3]\n",
    "\n",
    "    # Training process\n",
    "    test.bayes.predict <- BayesianClassifier(train.data,train.label,test.data)\n",
    "    test.lr.predict <- LogisticRegresson(train.data,train.label,test.data)\n",
    "    \n",
    "    # Record test error\n",
    "    test.error[iteration,1] <- i\n",
    "    test.error[iteration,2] <- sum(test.label!=test.bayes.predict)/nrow(test.data)*100\n",
    "    test.error[iteration,3] <- sum(test.label!=test.lr.predict)/nrow(test.data)*100\n",
    "    \n",
    "    \n",
    "    # increase i by 5\n",
    "    i <- i + 5\n",
    "    \n",
    "    # increase iteration\n",
    "    iteration <- iteration + 1\n",
    "    \n",
    "    }"
   ]
  },
  {
   "cell_type": "code",
   "execution_count": 7,
   "metadata": {},
   "outputs": [
    {
     "data": {
      "text/html": [
       "<table>\n",
       "<thead><tr><th></th><th scope=col>DataPoint</th><th scope=col>type</th><th scope=col>error</th></tr></thead>\n",
       "<tbody>\n",
       "\t<tr><th scope=row>1</th><td>5   </td><td>BC  </td><td>68.4</td></tr>\n",
       "\t<tr><th scope=row>102</th><td>5   </td><td>LR  </td><td> 9.8</td></tr>\n",
       "</tbody>\n",
       "</table>\n"
      ],
      "text/latex": [
       "\\begin{tabular}{r|lll}\n",
       "  & DataPoint & type & error\\\\\n",
       "\\hline\n",
       "\t1 & 5    & BC   & 68.4\\\\\n",
       "\t102 & 5    & LR   &  9.8\\\\\n",
       "\\end{tabular}\n"
      ],
      "text/markdown": [
       "\n",
       "| <!--/--> | DataPoint | type | error | \n",
       "|---|---|\n",
       "| 1 | 5    | BC   | 68.4 | \n",
       "| 102 | 5    | LR   |  9.8 | \n",
       "\n",
       "\n"
      ],
      "text/plain": [
       "    DataPoint type error\n",
       "1   5         BC   68.4 \n",
       "102 5         LR    9.8 "
      ]
     },
     "metadata": {},
     "output_type": "display_data"
    }
   ],
   "source": [
    "test.error <- as.data.frame(test.error)\n",
    "names(test.error) <- c('dataPoint','BC','LR')\n",
    "\n",
    "# Reshape the test error\n",
    "test.error.m <- melt(test.error,id='dataPoint')\n",
    "names(test.error.m) <- c('DataPoint','type','error')\n",
    "\n",
    "test.error.m[test.error.m$DataPoint==5,]"
   ]
  },
  {
   "cell_type": "code",
   "execution_count": 8,
   "metadata": {},
   "outputs": [
    {
     "data": {},
     "metadata": {},
     "output_type": "display_data"
    },
    {
     "data": {
      "image/png": "[encoded data removed]",
      "text/plain": [
       "plot without title"
      ]
     },
     "metadata": {},
     "output_type": "display_data"
    }
   ],
   "source": [
    "# plot\n",
    "ggplot(data=test.error.m,aes(x=DataPoint,y=error,color=type)) + geom_line() +\n",
    "     scale_color_discrete(guide = guide_legend(title = NULL)) + theme_minimal() +\n",
    "      ggtitle(\"Test errors versus the size of the training set\")"
   ]
  },
  {
   "cell_type": "markdown",
   "metadata": {},
   "source": [
    "### III. Explain your observations in your Jupyter Notebook file.:"
   ]
  },
  {
   "cell_type": "markdown",
   "metadata": {},
   "source": [
    "#### a. What does happen for each classifier when the number of training data points is increased?"
   ]
  },
  {
   "cell_type": "markdown",
   "metadata": {},
   "source": [
    "For Bayes classifier, if the number of training data is relatively small, the testing error will be large. Therefore, when increasing the number of training data, the testing error decreases to a lower level. Then keep increasing the number of training data, the testing error will fluctuate in a small range. Finally it will keep stable no matter how do we inlarge the dataset. \n",
    "\n",
    "For Logistic regression, similar with Bayes classifier, if the number of training data is small, the testing error will be large. When enlarging the dataset the testing error decreases significantly; then it will fluctate between a small range."
   ]
  },
  {
   "cell_type": "markdown",
   "metadata": {},
   "source": [
    "#### b. Which classifier is best suited when the training set is small, and which is best suited when the training set is big?\n",
    "\n",
    "From the plot above, we can see:\n",
    "* When training set is small, the best classifier is Logistic regression.\n",
    "* When training set is large, Logistic regression performs better."
   ]
  },
  {
   "cell_type": "markdown",
   "metadata": {},
   "source": [
    "#### c. Justify your observations in previous questions (III.a & III.b) by providing some speculations and possible reasons."
   ]
  },
  {
   "cell_type": "markdown",
   "metadata": {},
   "source": [
    "Question II.a\n",
    "\n",
    "1. If the training dataset is very small, for example it is only 4, obviously both methods are inaccurate. For Bayesian classifier, estimated parameters of Gussian distributions are not accurrate in terms of few empirical data and for logistic regression, there are less data points for the gradient descent.\n",
    "\n",
    "2. For a specific training dataset, the Bayesian classifier only has one model, thus for the same testing dataset the testing error always converges to the same value. However, logisitc regression absorbes the advantage of gradient descent to find the optimal parameters, therefore it may fluctuate around the optimal value for long time. But by the constrast, the asymptotic classification accuracy for Logistic Regression is often better than the asymptotic accuracy of Bayesian classifier."
   ]
  },
  {
   "cell_type": "markdown",
   "metadata": {},
   "source": [
    "Question III.b\n",
    "\n",
    "1. Bayesian Classifier uses Bayes Theorem to calculate the postoir probability $p(Y|X)$, while logistic regression directly calculate $p(Y|X)$. Note that the assumption of Bayesian classifier is that each $p(X|Y)$ is independent. If the training set is large, there may be more covariance between features therefore the so $p(X|Y)$ cannot always be independent. By contrast logistic regression will not be impacted by this situation because it uses gradient descent to estimate parameters.\n",
    "\n",
    "2. If the training dataset is samll, it is bad for logistic regression to estimate parameters while for Bayesian classifier, it performs better.\n",
    "\n",
    "3. There are D(D+5)/2 + 1 pararmeters for Bayesian classifier while D+1 parameters for logistic regression (D is the dimension of variables). In a large dataset the Batesian classifier is probabily overfitting."
   ]
  }
 ],
 "metadata": {
  "kernelspec": {
   "display_name": "R",
   "language": "R",
   "name": "ir"
  },
  "language_info": {
   "codemirror_mode": "r",
   "file_extension": ".r",
   "mimetype": "text/x-r-source",
   "name": "R",
   "pygments_lexer": "r",
   "version": "3.4.3"
  }
 },
 "nbformat": 4,
 "nbformat_minor": 2
}
