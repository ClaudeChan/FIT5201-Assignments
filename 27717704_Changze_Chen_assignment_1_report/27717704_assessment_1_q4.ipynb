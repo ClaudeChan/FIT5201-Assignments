{
 "cells": [
  {
   "cell_type": "markdown",
   "metadata": {},
   "source": [
    "## Question\t4 [Bayes Rule, 20 Marks]"
   ]
  },
  {
   "cell_type": "markdown",
   "metadata": {},
   "source": [
    "First we calculate the probabilities of selecting either the red or the blue boxes:\n",
    "\n",
    "$$p(B=red) = 4/10$$\n",
    "$$p(B=blue) = 6/10$$\n",
    "\n",
    "We know the probability of selecting an apple from the blue box which is 3/4, so $p(S=apple|B=blue)=3/4$. We can list all four conditional probailities for selecting a fruit:\n",
    "\n",
    "$$p(S=a|B=r) = 1/4$$\n",
    "$$p(S=o|B=r) = 3/4$$\n",
    "$$p(S=a|B=b) = 3/4$$\n",
    "$$p(S=o|B=b) = 1/4$$\n",
    "\n",
    "Using the sum and product rules of probability to calculate teh overall probability of selecting an apple:\n",
    "$$\n",
    "\\begin{eqnarray}\n",
    "p(S=a) &=& p(S=a|B=r)p(B=r) + p(S=a|B=b)p(B=b) \\\\\n",
    "       &=& \\frac{1}{4} \\times \\frac{4}{10} + \\frac{3}{4} \\times \\frac{6}{10} = \\frac{11}{20}\n",
    "\\end{eqnarray}\n",
    "$$\n",
    "\n",
    "Using the sum rule, $p(S=o) = 1- 11/20 = 9/20\n",
    "\n",
    "Therefore we can slove the problem of reversing the conditinal probability according to Bayes's theorem:\n",
    "$$p(B=r|S=o) = \\dfrac{S=o|B=r)p(B=r)}{p(S=o)} = \\dfrac {\\frac{3}{4} \\times \\frac{4}{10}}{\\frac{9}{20}} = \\frac{2}{3} $$"
   ]
  }
 ],
 "metadata": {
  "kernelspec": {
   "display_name": "R",
   "language": "R",
   "name": "ir"
  },
  "language_info": {
   "codemirror_mode": "r",
   "file_extension": ".r",
   "mimetype": "text/x-r-source",
   "name": "R",
   "pygments_lexer": "r",
   "version": "3.4.3"
  }
 },
 "nbformat": 4,
 "nbformat_minor": 2
}
